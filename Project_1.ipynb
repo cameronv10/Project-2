{
  "nbformat": 4,
  "nbformat_minor": 0,
  "metadata": {
    "colab": {
      "name": "Project 1",
      "provenance": [],
      "authorship_tag": "ABX9TyPFHJWKE7v+674goh0UYgp1",
      "include_colab_link": true
    },
    "kernelspec": {
      "name": "python3",
      "display_name": "Python 3"
    },
    "language_info": {
      "name": "python"
    }
  },
  "cells": [
    {
      "cell_type": "markdown",
      "metadata": {
        "id": "view-in-github",
        "colab_type": "text"
      },
      "source": [
        "<a href=\"https://colab.research.google.com/github/cameronv10/Project-2/blob/main/Project_1.ipynb\" target=\"_parent\"><img src=\"https://colab.research.google.com/assets/colab-badge.svg\" alt=\"Open In Colab\"/></a>"
      ]
    },
    {
      "cell_type": "code",
      "execution_count": 1,
      "metadata": {
        "id": "Ear11vPNSAs2"
      },
      "outputs": [],
      "source": [
        "import requests\n",
        "import pandas as pd\n",
        "\n",
        "def stocks(ticker=True):\n",
        "  url = 'https://www.alphavantage.co/query?function=TIME_SERIES_WEEKLY&symbol='+ticker+'&apikey=6JKXZSE93BPMCPCY'\n",
        "  r = requests.get(url)\n",
        "  data = r.json()\n",
        "  stocks=pd.DataFrame.from_dict(data['Weekly Time Series'], orient='index')\n",
        "  stocks.rename(columns={'1. open': 'open', '2. high': 'high', '3. low': 'low', '4. close': 'close', '5. volume': 'volume'}, inplace=True)\n",
        "  stocks.reset_index(inplace=True)\n",
        "  stocks=stocks.rename(columns = {'index':'date'})\n",
        "  stocks['ticker']= ticker\n",
        "  return stocks "
      ]
    },
    {
      "cell_type": "code",
      "source": [
        "Stock=stocks(ticker='A')"
      ],
      "metadata": {
        "id": "_Wf3DqHFYiuv"
      },
      "execution_count": 25,
      "outputs": []
    },
    {
      "cell_type": "code",
      "source": [
        "Stock['date']=pd.to_datetime(Stock['date'])\n",
        "Stock.dtypes\n",
        "Stock.columns"
      ],
      "metadata": {
        "colab": {
          "base_uri": "https://localhost:8080/"
        },
        "id": "BrWf2ELsgCEI",
        "outputId": "c693259e-96a1-4994-bb48-8b1e3988f2f9"
      },
      "execution_count": 30,
      "outputs": [
        {
          "output_type": "execute_result",
          "data": {
            "text/plain": [
              "Index(['date', 'open', 'high', 'low', 'close', 'volume', 'ticker'], dtype='object')"
            ]
          },
          "metadata": {},
          "execution_count": 30
        }
      ]
    },
    {
      "cell_type": "code",
      "source": [
        "column_names= Stock.columns\n",
        "for i in column_names[1:6]:\n",
        "  Stock[i]= Stock[i].astype('float')\n",
        "  Stock.dtypes"
      ],
      "metadata": {
        "id": "pzuzHNmJfY0B"
      },
      "execution_count": 32,
      "outputs": []
    },
    {
      "cell_type": "code",
      "source": [
        "import matplotlib.pyplot as plt\n",
        "\n",
        "plt.plot(Stock['date'], Stock['high'])\n",
        "plt.title('IBM monthly stock price versus time')\n",
        "plt.xlabel('Date')\n",
        "plt.ylabel('IBM Monthly Stock Price')\n",
        "plt.legend()\n",
        "plt.show()"
      ],
      "metadata": {
        "colab": {
          "base_uri": "https://localhost:8080/",
          "height": 312
        },
        "id": "4RKsNepyWpTt",
        "outputId": "4b1e5bc1-d9f6-49d9-df75-fc6c8ba6f349"
      },
      "execution_count": 33,
      "outputs": [
        {
          "output_type": "stream",
          "name": "stderr",
          "text": [
            "No handles with labels found to put in legend.\n"
          ]
        },
        {
          "output_type": "display_data",
          "data": {
            "text/plain": [
              "<Figure size 432x288 with 1 Axes>"
            ],
            "image/png": "[encoded data removed]"
          },
          "metadata": {
            "needs_background": "light"
          }
        }
      ]
    }
  ]
}